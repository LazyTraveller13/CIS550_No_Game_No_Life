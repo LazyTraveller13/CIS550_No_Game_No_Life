{
 "cells": [
  {
   "cell_type": "code",
   "execution_count": 73,
   "metadata": {},
   "outputs": [],
   "source": [
    "# import required libraries\n",
    "import pandas as pd\n",
    "import numpy as np \n",
    "import random"
   ]
  },
  {
   "cell_type": "code",
   "execution_count": 74,
   "metadata": {},
   "outputs": [],
   "source": [
    "Game = pd.read_csv('./Games.csv')\n",
    "Game_origin = pd.read_csv('../game with ratings/Games.csv')\n",
    "Game_sales_origin = pd.read_csv('../game sales with image from vg/game_sales_with_image.csv')\n",
    "Game_reviews_origin = pd.read_csv('../game reviews from vandal/game_reviews.csv')"
   ]
  },
  {
   "cell_type": "code",
   "execution_count": 75,
   "metadata": {},
   "outputs": [],
   "source": [
    "# Game "
   ]
  },
  {
   "cell_type": "code",
   "execution_count": 76,
   "metadata": {},
   "outputs": [],
   "source": [
    "Game.to_csv(\"Game.csv\", index=False)"
   ]
  },
  {
   "cell_type": "code",
   "execution_count": 78,
   "metadata": {},
   "outputs": [],
   "source": [
    "# clean Game_genre\n",
    "Game_genre = Game_origin[[\"id\", \"genres\"]]\n",
    "Game_genre = pd.merge(Game, Game_genre, how='left')[[\"id\", \"genres\"]]\n",
    "Game_genre = Game_genre.fillna(\"Other\")\n",
    "Game_genre[\"genres\"] = Game_genre[\"genres\"].str.split(\"\\|\\|\")\n",
    "Game_genre = Game_genre.explode(\"genres\").reset_index()[[\"id\", \"genres\"]]"
   ]
  },
  {
   "cell_type": "code",
   "execution_count": 80,
   "metadata": {},
   "outputs": [],
   "source": [
    "# clean Genre\n",
    "Genre = Game_genre[[\"genres\"]]\n",
    "Genre = Genre.sort_values(by=['genres'])\n",
    "Genre = Genre[[\"genres\"]].drop_duplicates().dropna().reset_index()[[\"genres\"]]\n",
    "Genre = Genre.rename(columns={'genres': 'name'})"
   ]
  },
  {
   "cell_type": "code",
   "execution_count": 106,
   "metadata": {
    "scrolled": false
   },
   "outputs": [],
   "source": [
    "# Genre"
   ]
  },
  {
   "cell_type": "code",
   "execution_count": 82,
   "metadata": {},
   "outputs": [],
   "source": [
    "# extract Game_genre and Genre to Game_genre.csv and Genre.csv respectively\n",
    "Game_genre.to_csv(\"Game_genre.csv\", index=False)\n",
    "Genre.to_csv(\"Genre.csv\", index=False)"
   ]
  },
  {
   "cell_type": "code",
   "execution_count": 83,
   "metadata": {},
   "outputs": [],
   "source": [
    "# clean Game_reviews_origin \n",
    "Game_reviews_origin['website_rating'] = Game_reviews_origin['website_rating'].str.replace('None', '')\n",
    "Game_reviews_origin['website_rating'] = Game_reviews_origin['website_rating'].str.replace(',', '')\n",
    "Game_reviews_origin['website_rating'] = Game_reviews_origin['website_rating'].str.replace('-', '')\n",
    "Game_reviews_origin['user_rating'] = Game_reviews_origin['website_rating'].str.replace('None', '')\n",
    "Game_reviews_origin['user_rating'] = Game_reviews_origin['website_rating'].str.replace(',', '')\n",
    "Game_reviews_origin['user_rating'] = Game_reviews_origin['website_rating'].str.replace('-', '')\n",
    "Game_reviews_origin['website_rating'] = pd.to_numeric(Game_reviews_origin['website_rating'])\n",
    "Game_reviews_origin['user_rating'] = pd.to_numeric(Game_reviews_origin['user_rating'])"
   ]
  },
  {
   "cell_type": "code",
   "execution_count": 1,
   "metadata": {
    "scrolled": true
   },
   "outputs": [],
   "source": [
    "# Game_reviews_origin"
   ]
  },
  {
   "cell_type": "code",
   "execution_count": 85,
   "metadata": {},
   "outputs": [],
   "source": [
    "# merge Game_reviews_origin and Game to find the user and website rating of the games \n",
    "\n",
    "Rating = pd.merge(Game, Game_reviews_origin, left_on='name', right_on='game', how='left')[['id_x', 'website_rating', 'user_rating']]\n",
    "Rating = pd.merge(Game_genre, Rating, left_on='id', right_on='id_x', how='inner')[['id', 'website_rating', 'user_rating', 'genres']]\n",
    "Rating['website_rating'] = np.where(Rating['website_rating']>10, Rating['website_rating']/10, Rating['website_rating'])\n",
    "Rating['user_rating'] = np.where(Rating['user_rating']>10, Rating['user_rating']/10, Rating['user_rating'])\n",
    "random.seed(9527)\n",
    "Rating = Rating.groupby(\"genres\").transform(lambda x: x.fillna(x.mean() - random.uniform(0, 2.0)))\n",
    "Rating = Rating.groupby('id').mean().reset_index()\n",
    "Rating = Rating.round(1)"
   ]
  },
  {
   "cell_type": "code",
   "execution_count": 53,
   "metadata": {},
   "outputs": [],
   "source": [
    "# extract Rating to csv file \n",
    "Rating.to_csv(\"Rating.csv\", index=False)"
   ]
  },
  {
   "cell_type": "code",
   "execution_count": 54,
   "metadata": {},
   "outputs": [],
   "source": [
    "# clean website of the games \n",
    "Game_sales_origin[\"img_url\"] = \"http://www.vgchartz.com\" + Game_sales_origin[\"img_url\"]\n",
    "Website = pd.merge(Game, Game_sales_origin, left_on='name', right_on='Name', how='inner')\n",
    "Website = Website[['id', 'url', 'img_url']].sort_values(by='id').drop_duplicates(subset='id').reset_index(drop=True)\n",
    "Website = Website.rename(columns={'url': 'vg_url', 'img_url': 'photo_url'})"
   ]
  },
  {
   "cell_type": "code",
   "execution_count": 55,
   "metadata": {},
   "outputs": [],
   "source": [
    "# export Website to Website.csv\n",
    "Website.to_csv(\"Website.csv\", index=False)"
   ]
  },
  {
   "cell_type": "code",
   "execution_count": 2,
   "metadata": {
    "scrolled": true
   },
   "outputs": [],
   "source": [
    "# Website"
   ]
  },
  {
   "cell_type": "code",
   "execution_count": 57,
   "metadata": {
    "collapsed": true
   },
   "outputs": [
    {
     "data": {
      "text/html": [
       "<div>\n",
       "<style scoped>\n",
       "    .dataframe tbody tr th:only-of-type {\n",
       "        vertical-align: middle;\n",
       "    }\n",
       "\n",
       "    .dataframe tbody tr th {\n",
       "        vertical-align: top;\n",
       "    }\n",
       "\n",
       "    .dataframe thead th {\n",
       "        text-align: right;\n",
       "    }\n",
       "</style>\n",
       "<table border=\"1\" class=\"dataframe\">\n",
       "  <thead>\n",
       "    <tr style=\"text-align: right;\">\n",
       "      <th></th>\n",
       "      <th>platforms</th>\n",
       "    </tr>\n",
       "  </thead>\n",
       "  <tbody>\n",
       "    <tr>\n",
       "      <th>0</th>\n",
       "      <td>3DO</td>\n",
       "    </tr>\n",
       "    <tr>\n",
       "      <th>1</th>\n",
       "      <td>Android</td>\n",
       "    </tr>\n",
       "    <tr>\n",
       "      <th>2</th>\n",
       "      <td>Apple II</td>\n",
       "    </tr>\n",
       "    <tr>\n",
       "      <th>3</th>\n",
       "      <td>Atari 2600</td>\n",
       "    </tr>\n",
       "    <tr>\n",
       "      <th>4</th>\n",
       "      <td>Atari 5200</td>\n",
       "    </tr>\n",
       "    <tr>\n",
       "      <th>5</th>\n",
       "      <td>Atari 7800</td>\n",
       "    </tr>\n",
       "    <tr>\n",
       "      <th>6</th>\n",
       "      <td>Atari 8-bit</td>\n",
       "    </tr>\n",
       "    <tr>\n",
       "      <th>7</th>\n",
       "      <td>Atari Flashback</td>\n",
       "    </tr>\n",
       "    <tr>\n",
       "      <th>8</th>\n",
       "      <td>Atari Lynx</td>\n",
       "    </tr>\n",
       "    <tr>\n",
       "      <th>9</th>\n",
       "      <td>Atari ST</td>\n",
       "    </tr>\n",
       "    <tr>\n",
       "      <th>10</th>\n",
       "      <td>Atari XEGS</td>\n",
       "    </tr>\n",
       "    <tr>\n",
       "      <th>11</th>\n",
       "      <td>Classic Macintosh</td>\n",
       "    </tr>\n",
       "    <tr>\n",
       "      <th>12</th>\n",
       "      <td>Commodore / Amiga</td>\n",
       "    </tr>\n",
       "    <tr>\n",
       "      <th>13</th>\n",
       "      <td>Dreamcast</td>\n",
       "    </tr>\n",
       "    <tr>\n",
       "      <th>14</th>\n",
       "      <td>Game Boy</td>\n",
       "    </tr>\n",
       "    <tr>\n",
       "      <th>15</th>\n",
       "      <td>Game Boy Advance</td>\n",
       "    </tr>\n",
       "    <tr>\n",
       "      <th>16</th>\n",
       "      <td>Game Boy Color</td>\n",
       "    </tr>\n",
       "    <tr>\n",
       "      <th>17</th>\n",
       "      <td>Game Gear</td>\n",
       "    </tr>\n",
       "    <tr>\n",
       "      <th>18</th>\n",
       "      <td>GameCube</td>\n",
       "    </tr>\n",
       "    <tr>\n",
       "      <th>19</th>\n",
       "      <td>Genesis</td>\n",
       "    </tr>\n",
       "    <tr>\n",
       "      <th>20</th>\n",
       "      <td>Jaguar</td>\n",
       "    </tr>\n",
       "    <tr>\n",
       "      <th>21</th>\n",
       "      <td>Linux</td>\n",
       "    </tr>\n",
       "    <tr>\n",
       "      <th>22</th>\n",
       "      <td>NES</td>\n",
       "    </tr>\n",
       "    <tr>\n",
       "      <th>23</th>\n",
       "      <td>Neo Geo</td>\n",
       "    </tr>\n",
       "    <tr>\n",
       "      <th>24</th>\n",
       "      <td>Nintendo 3DS</td>\n",
       "    </tr>\n",
       "    <tr>\n",
       "      <th>25</th>\n",
       "      <td>Nintendo 64</td>\n",
       "    </tr>\n",
       "    <tr>\n",
       "      <th>26</th>\n",
       "      <td>Nintendo DS</td>\n",
       "    </tr>\n",
       "    <tr>\n",
       "      <th>27</th>\n",
       "      <td>Nintendo DSi</td>\n",
       "    </tr>\n",
       "    <tr>\n",
       "      <th>28</th>\n",
       "      <td>Nintendo Switch</td>\n",
       "    </tr>\n",
       "    <tr>\n",
       "      <th>29</th>\n",
       "      <td>Other</td>\n",
       "    </tr>\n",
       "    <tr>\n",
       "      <th>30</th>\n",
       "      <td>PC</td>\n",
       "    </tr>\n",
       "    <tr>\n",
       "      <th>31</th>\n",
       "      <td>PS Vita</td>\n",
       "    </tr>\n",
       "    <tr>\n",
       "      <th>32</th>\n",
       "      <td>PSP</td>\n",
       "    </tr>\n",
       "    <tr>\n",
       "      <th>33</th>\n",
       "      <td>PlayStation</td>\n",
       "    </tr>\n",
       "    <tr>\n",
       "      <th>34</th>\n",
       "      <td>PlayStation 2</td>\n",
       "    </tr>\n",
       "    <tr>\n",
       "      <th>35</th>\n",
       "      <td>PlayStation 3</td>\n",
       "    </tr>\n",
       "    <tr>\n",
       "      <th>36</th>\n",
       "      <td>PlayStation 4</td>\n",
       "    </tr>\n",
       "    <tr>\n",
       "      <th>37</th>\n",
       "      <td>SEGA 32X</td>\n",
       "    </tr>\n",
       "    <tr>\n",
       "      <th>38</th>\n",
       "      <td>SEGA CD</td>\n",
       "    </tr>\n",
       "    <tr>\n",
       "      <th>39</th>\n",
       "      <td>SEGA Master System</td>\n",
       "    </tr>\n",
       "    <tr>\n",
       "      <th>40</th>\n",
       "      <td>SEGA Saturn</td>\n",
       "    </tr>\n",
       "    <tr>\n",
       "      <th>41</th>\n",
       "      <td>SNES</td>\n",
       "    </tr>\n",
       "    <tr>\n",
       "      <th>42</th>\n",
       "      <td>Web</td>\n",
       "    </tr>\n",
       "    <tr>\n",
       "      <th>43</th>\n",
       "      <td>Wii</td>\n",
       "    </tr>\n",
       "    <tr>\n",
       "      <th>44</th>\n",
       "      <td>Wii U</td>\n",
       "    </tr>\n",
       "    <tr>\n",
       "      <th>45</th>\n",
       "      <td>Xbox</td>\n",
       "    </tr>\n",
       "    <tr>\n",
       "      <th>46</th>\n",
       "      <td>Xbox 360</td>\n",
       "    </tr>\n",
       "    <tr>\n",
       "      <th>47</th>\n",
       "      <td>Xbox One</td>\n",
       "    </tr>\n",
       "    <tr>\n",
       "      <th>48</th>\n",
       "      <td>iOS</td>\n",
       "    </tr>\n",
       "    <tr>\n",
       "      <th>49</th>\n",
       "      <td>mac</td>\n",
       "    </tr>\n",
       "    <tr>\n",
       "      <th>50</th>\n",
       "      <td>macOS</td>\n",
       "    </tr>\n",
       "  </tbody>\n",
       "</table>\n",
       "</div>"
      ],
      "text/plain": [
       "             platforms\n",
       "0                  3DO\n",
       "1              Android\n",
       "2             Apple II\n",
       "3           Atari 2600\n",
       "4           Atari 5200\n",
       "5           Atari 7800\n",
       "6          Atari 8-bit\n",
       "7      Atari Flashback\n",
       "8           Atari Lynx\n",
       "9             Atari ST\n",
       "10          Atari XEGS\n",
       "11   Classic Macintosh\n",
       "12   Commodore / Amiga\n",
       "13           Dreamcast\n",
       "14            Game Boy\n",
       "15    Game Boy Advance\n",
       "16      Game Boy Color\n",
       "17           Game Gear\n",
       "18            GameCube\n",
       "19             Genesis\n",
       "20              Jaguar\n",
       "21               Linux\n",
       "22                 NES\n",
       "23             Neo Geo\n",
       "24        Nintendo 3DS\n",
       "25         Nintendo 64\n",
       "26         Nintendo DS\n",
       "27        Nintendo DSi\n",
       "28     Nintendo Switch\n",
       "29               Other\n",
       "30                  PC\n",
       "31             PS Vita\n",
       "32                 PSP\n",
       "33         PlayStation\n",
       "34       PlayStation 2\n",
       "35       PlayStation 3\n",
       "36       PlayStation 4\n",
       "37            SEGA 32X\n",
       "38             SEGA CD\n",
       "39  SEGA Master System\n",
       "40         SEGA Saturn\n",
       "41                SNES\n",
       "42                 Web\n",
       "43                 Wii\n",
       "44               Wii U\n",
       "45                Xbox\n",
       "46            Xbox 360\n",
       "47            Xbox One\n",
       "48                 iOS\n",
       "49                 mac\n",
       "50               macOS"
      ]
     },
     "execution_count": 57,
     "metadata": {},
     "output_type": "execute_result"
    }
   ],
   "source": [
    "Game_plat = Game_origin[['id', 'platforms']]\n",
    "Game_plat = pd.merge(Game, Game_plat, how='left')[['id', 'platforms']]\n",
    "Game_plat = Game_plat.fillna(\"Other\")\n",
    "Game_plat[\"platforms\"] = Game_plat[\"platforms\"].str.split(\"\\|\\|\")\n",
    "Game_plat = Game_plat.explode(\"platforms\").reset_index()[['id', 'platforms']]\n",
    "\n",
    "Platforms = Game_plat[['platforms']]\n",
    "Platforms = Platforms.sort_values(by=['platforms'])\n",
    "Platforms = Platforms[['platforms']].drop_duplicates().dropna().reset_index()[[\"platforms\"]]\n",
    "Platforms"
   ]
  },
  {
   "cell_type": "code",
   "execution_count": 58,
   "metadata": {},
   "outputs": [],
   "source": [
    "Game_class = pd.merge(Game, Game_reviews_origin, left_on = 'name', right_on = 'game', how = 'left')[['id_x', 'classification']]\n",
    "Game_class = Game_class.rename(columns = {'id_x': 'id'})\n",
    "Game_class = Game_class.fillna(\"None\")\n",
    "Game_class = Game_class.drop_duplicates().sort_values(by=['id']).reset_index(drop = True)\n",
    "Game_class.to_csv(\"Game_class.csv\", index = False)\n",
    "\n",
    "Classification = Game_class[['classification']]\n",
    "Classification = Classification.drop_duplicates().reset_index(drop = True)\n",
    "Classification.to_csv(\"Classification.csv\", index = False)"
   ]
  },
  {
   "cell_type": "code",
   "execution_count": 3,
   "metadata": {},
   "outputs": [],
   "source": [
    "# Game_class "
   ]
  },
  {
   "cell_type": "code",
   "execution_count": 4,
   "metadata": {},
   "outputs": [],
   "source": [
    "# Classification"
   ]
  },
  {
   "cell_type": "code",
   "execution_count": null,
   "metadata": {},
   "outputs": [],
   "source": []
  },
  {
   "cell_type": "code",
   "execution_count": 164,
   "metadata": {},
   "outputs": [],
   "source": [
    "Platforms.to_csv(\"Platforms.csv\", index = False)"
   ]
  },
  {
   "cell_type": "code",
   "execution_count": 163,
   "metadata": {},
   "outputs": [],
   "source": [
    "Game_plat.to_csv(\"Game_plat.csv\", index = False)"
   ]
  },
  {
   "cell_type": "code",
   "execution_count": null,
   "metadata": {},
   "outputs": [],
   "source": []
  }
 ],
 "metadata": {
  "kernelspec": {
   "display_name": "Python 3",
   "language": "python",
   "name": "python3"
  },
  "language_info": {
   "codemirror_mode": {
    "name": "ipython",
    "version": 3
   },
   "file_extension": ".py",
   "mimetype": "text/x-python",
   "name": "python",
   "nbconvert_exporter": "python",
   "pygments_lexer": "ipython3",
   "version": "3.7.3"
  }
 },
 "nbformat": 4,
 "nbformat_minor": 2
}
