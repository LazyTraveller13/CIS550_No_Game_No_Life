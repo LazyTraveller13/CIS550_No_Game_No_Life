{
 "cells": [
  {
   "cell_type": "code",
   "execution_count": 23,
   "metadata": {},
   "outputs": [],
   "source": [
    "# import required libraries\n",
    "import pandas as pd\n",
    "import numpy as np "
   ]
  },
  {
   "cell_type": "code",
   "execution_count": 24,
   "metadata": {},
   "outputs": [],
   "source": [
    "# read files \n",
    "Game_origin = pd.read_csv('../game with ratings/Games.csv')\n",
    "Game_sales_origin = pd.read_csv('../game sales with image from vg/game_sales_with_image.csv')\n",
    "Game_reviews_origin = pd.read_csv('../game reviews from vandal/game_reviews.csv')"
   ]
  },
  {
   "cell_type": "code",
   "execution_count": 25,
   "metadata": {},
   "outputs": [],
   "source": [
    "# modify Game_origin to get the Game tables \n",
    "Game = Game_origin[[\"id\", \"name\", \"released\", \"developers\"]].dropna()\n",
    "Game[\"developers\"] = Game[\"developers\"].str.replace(\"||\", \", \", regex=False)\n",
    "Game = Game.rename(columns={'released': 'release_date', 'developers': 'developer'})"
   ]
  },
  {
   "cell_type": "code",
   "execution_count": 26,
   "metadata": {},
   "outputs": [],
   "source": [
    "# extract Game table to Game.csv\n",
    "Game.to_csv(\"Game.csv\", index=False)"
   ]
  },
  {
   "cell_type": "code",
   "execution_count": 27,
   "metadata": {},
   "outputs": [],
   "source": [
    "# modify Game_origin and Game to get Genre and Game_genre tables\n",
    "Game_genre = Game_origin[[\"id\", \"genres\"]]\n",
    "Game_genre = pd.merge(Game, Game_genre, how='left')[[\"id\", \"genres\"]]\n",
    "Game_genre[\"genres\"] = Game_genre[\"genres\"].str.split(\"\\|\\|\")\n",
    "Game_genre = Game_genre.explode(\"genres\").reset_index()[[\"id\", \"genres\"]]\n",
    "\n",
    "Genre = Game_genre[[\"genres\"]]\n",
    "Genre = Genre.sort_values(by=['genres'])\n",
    "Genre = Genre[[\"genres\"]].drop_duplicates().dropna().reset_index()[[\"genres\"]]\n",
    "Genre = Genre.rename(columns={'genres': 'name'})"
   ]
  },
  {
   "cell_type": "code",
   "execution_count": 28,
   "metadata": {},
   "outputs": [],
   "source": [
    "# extract Game_genre and Genre to Game_genre.csv and Genre.csv respectively\n",
    "Game_genre.to_csv(\"Game_genre.csv\", index=False)\n",
    "Genre.to_csv(\"Genre.csv\", index=False)"
   ]
  },
  {
   "cell_type": "code",
   "execution_count": 29,
   "metadata": {},
   "outputs": [],
   "source": [
    "# clean Game_reviews_origin \n",
    "Game_reviews_origin['website_rating'] = Game_reviews_origin['website_rating'].str.replace('None', '')\n",
    "Game_reviews_origin['website_rating'] = Game_reviews_origin['website_rating'].str.replace(',', '')\n",
    "Game_reviews_origin['website_rating'] = Game_reviews_origin['website_rating'].str.replace('-', '')\n",
    "Game_reviews_origin['user_rating'] = Game_reviews_origin['website_rating'].str.replace('None', '')\n",
    "Game_reviews_origin['user_rating'] = Game_reviews_origin['website_rating'].str.replace(',', '')\n",
    "Game_reviews_origin['user_rating'] = Game_reviews_origin['website_rating'].str.replace('-', '')\n",
    "Game_reviews_origin['website_rating'] = pd.to_numeric(Game_reviews_origin['website_rating'])\n",
    "Game_reviews_origin['user_rating'] = pd.to_numeric(Game_reviews_origin['user_rating'])"
   ]
  },
  {
   "cell_type": "code",
   "execution_count": 30,
   "metadata": {},
   "outputs": [],
   "source": [
    "# merge Game_reviews_origin and Game to find the user and website rating of the games \n",
    "Rating = pd.merge(Game, Game_reviews_origin, left_on='name', right_on='game', how='inner')[['id_x', 'website_rating', 'user_rating']]\n",
    "Rating = Rating.groupby('id_x').mean().reset_index().rename(columns={'id_x': 'id'})"
   ]
  },
  {
   "cell_type": "code",
   "execution_count": 31,
   "metadata": {},
   "outputs": [],
   "source": [
    "# extract Rating to Rating.csv\n",
    "Rating.to_csv(\"Rating.csv\", index=False)"
   ]
  },
  {
   "cell_type": "code",
   "execution_count": 32,
   "metadata": {},
   "outputs": [],
   "source": [
    "# clean Game_sales_origin\n",
    "Game_sales_origin[\"img_url\"] = \"http://www.vgchartz.com\" + Game_sales_origin[\"img_url\"]"
   ]
  },
  {
   "cell_type": "code",
   "execution_count": 33,
   "metadata": {},
   "outputs": [],
   "source": [
    "# merge Game and Game_sales_origin \n",
    "Website = pd.merge(Game, Game_sales_origin, left_on='name', right_on='Name', how='inner')\n",
    "Website = Website[['id', 'url', 'img_url']].sort_values(by='id').drop_duplicates(subset='id').reset_index(drop=True)\n",
    "Website = Website.rename(columns={'url': 'vg_url', 'img_url': 'photo_url'})\n"
   ]
  },
  {
   "cell_type": "code",
   "execution_count": 34,
   "metadata": {},
   "outputs": [],
   "source": [
    "# export Website to Website.csv\n",
    "Website.to_csv(\"Website.csv\", index=False)"
   ]
  },
  {
   "cell_type": "code",
   "execution_count": null,
   "metadata": {},
   "outputs": [],
   "source": []
  }
 ],
 "metadata": {
  "kernelspec": {
   "display_name": "Python 3",
   "language": "python",
   "name": "python3"
  },
  "language_info": {
   "codemirror_mode": {
    "name": "ipython",
    "version": 3
   },
   "file_extension": ".py",
   "mimetype": "text/x-python",
   "name": "python",
   "nbconvert_exporter": "python",
   "pygments_lexer": "ipython3",
   "version": "3.7.3"
  }
 },
 "nbformat": 4,
 "nbformat_minor": 2
}
